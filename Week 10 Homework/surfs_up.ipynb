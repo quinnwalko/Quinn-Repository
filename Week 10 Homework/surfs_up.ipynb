import sqlalchemy
from sqlalchemy.ext.automap import automap_base
from sqlalchemy.orm import Session
from sqlalchemy import create_engine
from sqlalchemy import func

import pandas as pd
import numpy as np
import matplotlib.pyplot as plt
import seaborn
import datetime

engine = create_engine("sqlite:///hawaii.sqlite")

Base = automap_base()
Base.prepare(engine, reflect=True)
Base.classes.keys()

Measurement = Base.classes.measurement
Station = Base.classes.station

session = Session(engine)

meas_first = session.query(Measurement).first()
meas_first

meas_first.__dict__

rain = session.query(Measurement.date, Measurement.prcp).filter(Measurement.date >= "2016-08-23").\
       group_by(Measurement.date).all()
rain

rain_df = pd.DataFrame(rain)
rain_df.head()

rain_2017_df = rain_df.set_index("date")
rain_2017_df.head()

