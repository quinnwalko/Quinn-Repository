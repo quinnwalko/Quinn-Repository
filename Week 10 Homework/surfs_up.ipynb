import sqlalchemy
from sqlalchemy.ext.automap import automap_base
from sqlalchemy.orm import Session
from sqlalchemy import create_engine
from sqlalchemy import func

import pandas as pd
import numpy as np
import matplotlib.pyplot as plt
import seaborn
import datetime

engine = create_engine("sqlite:///hawaii.sqlite")
