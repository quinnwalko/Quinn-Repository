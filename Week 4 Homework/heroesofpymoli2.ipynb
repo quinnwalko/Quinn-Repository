import pandas as pd
import numpy as np

file_to_load = "purchase_data.csv"
